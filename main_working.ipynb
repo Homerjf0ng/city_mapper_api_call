{
 "cells": [
  {
   "cell_type": "code",
   "execution_count": 62,
   "metadata": {},
   "outputs": [],
   "source": [
    "from time import gmtime\n",
    "from tracemalloc import start\n",
    "from webbrowser import get\n",
    "from xmlrpc.client import _iso8601_format\n",
    "import requests \n",
    "import json \n",
    "from datetime import datetime \n",
    "\n",
    "key = \"zxUMiZ9SGhqtLU48CoqRd3uFwoX1QDDi\"\n",
    "\n",
    "# user_start_lat = 51.445843328863525 \n",
    "# user_start_lng = -0.1210636278767276\n",
    "# user_end_lat = 51.511669887066624\n",
    "# user_end_lng = -0.11598756084559016\n",
    "\n",
    "user_start_lat = \"51.445843328863525,-0.1210636278767276\"\n",
    "user_end_lat = \"51.511669887066624,-0.11598756084559016\"\n",
    "\n",
    "# user_transport_methods = \n",
    "user_departure_time = datetime.now()\n",
    "\n",
    "def format_user_params(start_point, end_point, departure_time, transport_method):\n",
    "    return start_point, end_point, departure_time, transport_method\n",
    "\n",
    "\n",
    "\n",
    "def get_CM_response(params):\n",
    "    response = requests.get(f\"https://api.external.citymapper.com/api/{params}\")\n",
    "    return response\n",
    "\n",
    "\n",
    "\n"
   ]
  },
  {
   "cell_type": "code",
   "execution_count": null,
   "metadata": {},
   "outputs": [],
   "source": [
    "format_user_params()"
   ]
  }
 ],
 "metadata": {
  "kernelspec": {
   "display_name": "Python 3.10.8 64-bit",
   "language": "python",
   "name": "python3"
  },
  "language_info": {
   "codemirror_mode": {
    "name": "ipython",
    "version": 3
   },
   "file_extension": ".py",
   "mimetype": "text/x-python",
   "name": "python",
   "nbconvert_exporter": "python",
   "pygments_lexer": "ipython3",
   "version": "3.10.8"
  },
  "orig_nbformat": 4,
  "vscode": {
   "interpreter": {
    "hash": "4ea7f844d09eb9acde29452e8b2a751316230114e58a33bdc768e559c817f2ee"
   }
  }
 },
 "nbformat": 4,
 "nbformat_minor": 2
}
